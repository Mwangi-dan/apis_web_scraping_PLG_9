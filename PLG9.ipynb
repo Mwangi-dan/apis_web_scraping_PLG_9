{
  "nbformat": 4,
  "nbformat_minor": 0,
  "metadata": {
    "colab": {
      "provenance": []
    },
    "kernelspec": {
      "name": "python3",
      "display_name": "Python 3"
    },
    "language_info": {
      "name": "python"
    }
  },
  "cells": [
    {
      "cell_type": "markdown",
      "source": [
        "# **1. Tabular Web-scraping**"
      ],
      "metadata": {
        "id": "UQpGw-Te1Oo4"
      }
    },
    {
      "cell_type": "code",
      "execution_count": null,
      "metadata": {
        "colab": {
          "base_uri": "https://localhost:8080/"
        },
        "id": "jer4M36IQ2W5",
        "outputId": "b5b6a301-2eb9-4dfb-d2f4-ddc772780e53"
      },
      "outputs": [
        {
          "output_type": "stream",
          "name": "stdout",
          "text": [
            "Requirement already satisfied: requests in /usr/local/lib/python3.10/dist-packages (2.32.3)\n",
            "Requirement already satisfied: beautifulsoup4 in /usr/local/lib/python3.10/dist-packages (4.12.3)\n",
            "Requirement already satisfied: pandas in /usr/local/lib/python3.10/dist-packages (2.2.2)\n",
            "Requirement already satisfied: charset-normalizer<4,>=2 in /usr/local/lib/python3.10/dist-packages (from requests) (3.4.0)\n",
            "Requirement already satisfied: idna<4,>=2.5 in /usr/local/lib/python3.10/dist-packages (from requests) (3.10)\n",
            "Requirement already satisfied: urllib3<3,>=1.21.1 in /usr/local/lib/python3.10/dist-packages (from requests) (2.2.3)\n",
            "Requirement already satisfied: certifi>=2017.4.17 in /usr/local/lib/python3.10/dist-packages (from requests) (2024.8.30)\n",
            "Requirement already satisfied: soupsieve>1.2 in /usr/local/lib/python3.10/dist-packages (from beautifulsoup4) (2.6)\n",
            "Requirement already satisfied: numpy>=1.22.4 in /usr/local/lib/python3.10/dist-packages (from pandas) (1.26.4)\n",
            "Requirement already satisfied: python-dateutil>=2.8.2 in /usr/local/lib/python3.10/dist-packages (from pandas) (2.8.2)\n",
            "Requirement already satisfied: pytz>=2020.1 in /usr/local/lib/python3.10/dist-packages (from pandas) (2024.2)\n",
            "Requirement already satisfied: tzdata>=2022.7 in /usr/local/lib/python3.10/dist-packages (from pandas) (2024.2)\n",
            "Requirement already satisfied: six>=1.5 in /usr/local/lib/python3.10/dist-packages (from python-dateutil>=2.8.2->pandas) (1.16.0)\n"
          ]
        }
      ],
      "source": [
        "pip install requests beautifulsoup4 pandas\n"
      ]
    },
    {
      "cell_type": "markdown",
      "source": [
        "Importing Modules"
      ],
      "metadata": {
        "id": "ldAuksTczfDM"
      }
    },
    {
      "cell_type": "code",
      "source": [
        "import requests\n",
        "from bs4 import BeautifulSoup\n",
        "import pandas as pd\n"
      ],
      "metadata": {
        "id": "4pTTrD8jvwkQ"
      },
      "execution_count": null,
      "outputs": []
    },
    {
      "cell_type": "markdown",
      "source": [
        "Fetching the data from the site"
      ],
      "metadata": {
        "id": "GFRvFxqrzhSe"
      }
    },
    {
      "cell_type": "code",
      "source": [
        "url = \"https://www.scrapethissite.com/pages/forms/\"\n",
        "response = requests.get(url)\n"
      ],
      "metadata": {
        "id": "4tptW4NIv77n"
      },
      "execution_count": null,
      "outputs": []
    },
    {
      "cell_type": "markdown",
      "source": [
        "Using BeautifulSoup to scrape through the tabular data on the site"
      ],
      "metadata": {
        "id": "77yp3NdhzkVZ"
      }
    },
    {
      "cell_type": "code",
      "source": [
        "if response.status_code == 200:\n",
        "    soup = BeautifulSoup(response.text, 'html.parser')\n",
        "    table = soup.find('table')\n",
        "    rows = table.find_all('tr')\n",
        "\n",
        "    data = []\n",
        "    for row in rows:\n",
        "        cols = row.find_all(['td', 'th'])\n",
        "        cols = [cell.text.strip() for cell in cols]\n",
        "        data.append([ele for ele in cols if ele])\n",
        "    df = pd.DataFrame(data)\n",
        "    df.columns = df.iloc[0]\n",
        "    df = df[1:]\n",
        "else:\n",
        "    print(\"Failed to retrieve the webpage.\")"
      ],
      "metadata": {
        "id": "SYNigEc8wI2-"
      },
      "execution_count": null,
      "outputs": []
    },
    {
      "cell_type": "code",
      "source": [
        "print(df)"
      ],
      "metadata": {
        "id": "e25Eu5okyCAm",
        "outputId": "5b1f217a-6574-4813-df37-2db329755f73",
        "colab": {
          "base_uri": "https://localhost:8080/"
        }
      },
      "execution_count": null,
      "outputs": [
        {
          "output_type": "stream",
          "name": "stdout",
          "text": [
            "0               Team Name  Year Wins Losses OT Losses Win % Goals For (GF)  \\\n",
            "1           Boston Bruins  1990   44     24      0.55   299            264   \n",
            "2          Buffalo Sabres  1990   31     30     0.388   292            278   \n",
            "3          Calgary Flames  1990   46     26     0.575   344            263   \n",
            "4      Chicago Blackhawks  1990   49     23     0.613   284            211   \n",
            "5       Detroit Red Wings  1990   34     38     0.425   273            298   \n",
            "6         Edmonton Oilers  1990   37     37     0.463   272            272   \n",
            "7        Hartford Whalers  1990   31     38     0.388   238            276   \n",
            "8       Los Angeles Kings  1990   46     24     0.575   340            254   \n",
            "9   Minnesota North Stars  1990   27     39     0.338   256            266   \n",
            "10     Montreal Canadiens  1990   39     30     0.487   273            249   \n",
            "11      New Jersey Devils  1990   32     33       0.4   272            264   \n",
            "12     New York Islanders  1990   25     45     0.312   223            290   \n",
            "13       New York Rangers  1990   36     31      0.45   297            265   \n",
            "14    Philadelphia Flyers  1990   33     37     0.412   252            267   \n",
            "15    Pittsburgh Penguins  1990   41     33     0.512   342            305   \n",
            "16       Quebec Nordiques  1990   16     50       0.2   236            354   \n",
            "17        St. Louis Blues  1990   47     22     0.588   310            250   \n",
            "18    Toronto Maple Leafs  1990   23     46     0.287   241            318   \n",
            "19      Vancouver Canucks  1990   28     43      0.35   243            315   \n",
            "20    Washington Capitals  1990   37     36     0.463   258            258   \n",
            "21          Winnipeg Jets  1990   26     43     0.325   260            288   \n",
            "22          Boston Bruins  1991   36     32      0.45   270            275   \n",
            "23         Buffalo Sabres  1991   31     37     0.388   289            299   \n",
            "24         Calgary Flames  1991   31     37     0.388   296            305   \n",
            "25     Chicago Blackhawks  1991   36     29      0.45   257            236   \n",
            "\n",
            "0  Goals Against (GA) + / -  \n",
            "1                  35  None  \n",
            "2                  14  None  \n",
            "3                  81  None  \n",
            "4                  73  None  \n",
            "5                 -25  None  \n",
            "6                   0  None  \n",
            "7                 -38  None  \n",
            "8                  86  None  \n",
            "9                 -10  None  \n",
            "10                 24  None  \n",
            "11                  8  None  \n",
            "12                -67  None  \n",
            "13                 32  None  \n",
            "14                -15  None  \n",
            "15                 37  None  \n",
            "16               -118  None  \n",
            "17                 60  None  \n",
            "18                -77  None  \n",
            "19                -72  None  \n",
            "20                  0  None  \n",
            "21                -28  None  \n",
            "22                 -5  None  \n",
            "23                -10  None  \n",
            "24                 -9  None  \n",
            "25                 21  None  \n"
          ]
        }
      ]
    },
    {
      "cell_type": "markdown",
      "source": [
        "Saving the data to a csv file"
      ],
      "metadata": {
        "id": "d1gdnSRQzw-2"
      }
    },
    {
      "cell_type": "code",
      "source": [
        "df.to_csv('scraped_table_plg9.csv', index=False)"
      ],
      "metadata": {
        "id": "q2LOUK4Zy-Hx"
      },
      "execution_count": null,
      "outputs": []
    },
    {
      "cell_type": "markdown",
      "source": [
        "# **2. Amazon Web Scraping**"
      ],
      "metadata": {
        "id": "9MTrod1T0-WG"
      }
    },
    {
      "cell_type": "code",
      "source": [],
      "metadata": {
        "id": "RSc1sAcY1Gu6"
      },
      "execution_count": null,
      "outputs": []
    },
    {
      "cell_type": "markdown",
      "source": [
        "## Set Headers"
      ],
      "metadata": {
        "id": "jjpp4G5w2zqr"
      }
    },
    {
      "cell_type": "code",
      "source": [
        "HEADERS = {\n",
        "    \"User-Agent\": \"Mozilla/5.0 (Windows NT 10.0; Win64; x64; rv:89.0) Gecko/20100101 Firefox/89.0\",\n",
        "    \"Accept-Language\": \"en-US, en;q=0.5\"\n",
        "}"
      ],
      "metadata": {
        "id": "tvJ15ENT2YL6"
      },
      "execution_count": null,
      "outputs": []
    },
    {
      "cell_type": "code",
      "source": [
        "HEADERS2 = {\n",
        "    \"User-Agent\": \"Mozilla/5.0 (Windows NT 10.0; Win64; x64) AppleWebKit/537.36 (KHTML, like Gecko) Chrome/114.0.0.0 Safari/537.36\",\n",
        "    \"Accept\": \"text/html,application/xhtml+xml,application/xml;q=0.9,image/avif,image/webp,image/apng,*/*;q=0.8,application/signed-exchange;v=b3;q=0.9\",\n",
        "    \"Accept-Language\": \"en-US,en;q=0.9\",\n",
        "    \"Accept-Encoding\": \"gzip, deflate, br\",\n",
        "    \"Connection\": \"keep-alive\",\n",
        "    \"Upgrade-Insecure-Requests\": \"1\",\n",
        "    \"Sec-Fetch-Dest\": \"document\",\n",
        "    \"Sec-Fetch-Mode\": \"navigate\",\n",
        "    \"Sec-Fetch-Site\": \"none\",\n",
        "    \"Sec-Fetch-User\": \"?1\",\n",
        "    \"Cache-Control\": \"max-age=0\"\n",
        "}\n"
      ],
      "metadata": {
        "id": "xxXtIc-58z0j"
      },
      "execution_count": 28,
      "outputs": []
    },
    {
      "cell_type": "code",
      "source": [
        "url = 'https://www.amazon.com/s?k=laptop'\n",
        "response = requests.get(url, headers=HEADERS2)"
      ],
      "metadata": {
        "id": "qO7Yusmz26bz"
      },
      "execution_count": 29,
      "outputs": []
    },
    {
      "cell_type": "markdown",
      "source": [
        "## Parse the content using BeautifulSoup"
      ],
      "metadata": {
        "id": "ukDuz0_w3i-6"
      }
    },
    {
      "cell_type": "code",
      "source": [
        "soup = BeautifulSoup(response.content, \"html.parser\")"
      ],
      "metadata": {
        "id": "ZBKo-NvL3fJb"
      },
      "execution_count": 30,
      "outputs": []
    },
    {
      "cell_type": "markdown",
      "source": [
        "## Create directory for images"
      ],
      "metadata": {
        "id": "a-d2IvAh33Kh"
      }
    },
    {
      "cell_type": "code",
      "source": [
        "!mkdir -p amazon_products"
      ],
      "metadata": {
        "id": "JkVF6JRI36a1"
      },
      "execution_count": null,
      "outputs": []
    },
    {
      "cell_type": "markdown",
      "source": [
        "## Find product listings"
      ],
      "metadata": {
        "id": "l45wzMNj4Ela"
      }
    },
    {
      "cell_type": "code",
      "source": [
        "products = soup.find_all('div', {'data-component-type': 's-search-result'}, limit=5)"
      ],
      "metadata": {
        "id": "0NyxfHPC4Dig"
      },
      "execution_count": 31,
      "outputs": []
    },
    {
      "cell_type": "code",
      "source": [
        "\n",
        "for idx, product in enumerate(products):\n",
        "    # Extract product name\n",
        "    product_name = product.h2.text.strip()\n",
        "\n",
        "    # Extract product image URL\n",
        "    image_tag = product.find('img', {'class': 's-image'})\n",
        "    image_url = image_tag['src']\n",
        "\n",
        "    # Make a GET request to download the image\n",
        "    image_response = requests.get(image_url)\n",
        "\n",
        "    # Save image locally\n",
        "    image_path = f'amazon_products/product_{idx + 1}.jpg'\n",
        "    with open(image_path, 'wb') as file:\n",
        "        file.write(image_response.content)\n",
        "\n",
        "    # Print product label and confirm image saving\n",
        "    print(f'Product {idx + 1}: {product_name}')\n",
        "    print(f'Image saved at: {image_path}')\n"
      ],
      "metadata": {
        "id": "HUJMd6-G6pmG",
        "colab": {
          "base_uri": "https://localhost:8080/"
        },
        "outputId": "c764d8b1-aedd-4832-d816-20389ada1d90"
      },
      "execution_count": 32,
      "outputs": [
        {
          "output_type": "stream",
          "name": "stdout",
          "text": [
            "Product 1: Acer Aspire 3 A315-24P-R7VH Slim Laptop | 15.6\" Full HD IPS Display | AMD Ryzen 3 7320U Quad-Core Processor | AMD Radeon Graphics | 8GB LPDDR5 | 128GB NVMe SSD | Wi-Fi 6 | Windows 11 Home in S Mode\n",
            "Image saved at: amazon_products/product_1.jpg\n",
            "Product 2: HP Newest 255 G10 Laptop for Home or Work, 16GB RAM, 1TB SSD, 15.6\" Full HD, Ryzen 3 7330U (Beat Intel i5-1135G7), Ethernet Port, HDMI, USB-C, Windows 11 Pro, Business and Fun Ready (2024)\n",
            "Image saved at: amazon_products/product_2.jpg\n",
            "Product 3: Acer Aspire Go 15 Slim Laptop | 15.6\" Full HD IPS 1080P Display | Intel Core i3-N305| Intel UHD Graphics | 8GB LPDDR5 | 128GB HD | Wi-Fi 6 | AI PC | Windows 11 Home in S Mode | AG15-31P-3947\n",
            "Image saved at: amazon_products/product_3.jpg\n",
            "Product 4: Lenovo Essential IdeaPad • 36GB RAM • 1.5TB Storage(512GB SSD and 1TB Cloud Storage) • 15.6\" Full HD • Intel 4-core • Free 1 Year Office 365 • Intel 4-core • Wi-Fi 6 • Type-C • Windows 11 Home\n",
            "Image saved at: amazon_products/product_4.jpg\n",
            "Product 5: HP Portable Laptop, Student and Business, 14\" HD Display, Intel Quad-Core N4120, 8GB DDR4 RAM, 64GB eMMC, 1 Year Office 365, Webcam, RJ-45, HDMI, Wi-Fi, Windows 11 Home, Silver\n",
            "Image saved at: amazon_products/product_5.jpg\n"
          ]
        }
      ]
    }
  ]
}